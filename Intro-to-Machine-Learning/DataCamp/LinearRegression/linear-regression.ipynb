{
 "cells": [
  {
   "cell_type": "code",
   "execution_count": 17,
   "metadata": {},
   "outputs": [
    {
     "name": "stdout",
     "output_type": "stream",
     "text": [
      "logistic regression training score 0.9624060150375939\n",
      "logistic regression test score 0.9555555555555556\n",
      "-----------------------------------------------------\n",
      "svc training score 0.706766917293233\n",
      "svc test score 0.5777777777777777\n",
      "-----------------------------------------------------\n",
      "linear_svc training score 0.9849624060150376\n",
      "linear_svc test score 0.9777777777777777\n",
      "-----------------------------------------------------\n",
      "k_neighbor training score 0.8045112781954887\n",
      "k_neighbor test score 0.6888888888888889\n",
      "-----------------------------------------------------\n"
     ]
    },
    {
     "name": "stderr",
     "output_type": "stream",
     "text": [
      "/opt/anaconda3/lib/python3.12/site-packages/sklearn/linear_model/_logistic.py:469: ConvergenceWarning: lbfgs failed to converge (status=1):\n",
      "STOP: TOTAL NO. of ITERATIONS REACHED LIMIT.\n",
      "\n",
      "Increase the number of iterations (max_iter) or scale the data as shown in:\n",
      "    https://scikit-learn.org/stable/modules/preprocessing.html\n",
      "Please also refer to the documentation for alternative solver options:\n",
      "    https://scikit-learn.org/stable/modules/linear_model.html#logistic-regression\n",
      "  n_iter_i = _check_optimize_result(\n"
     ]
    }
   ],
   "source": [
    "import sklearn.datasets\n",
    "\n",
    "from sklearn.linear_model import LogisticRegression\n",
    "from sklearn.model_selection import train_test_split\n",
    "from sklearn.svm import SVC, LinearSVC\n",
    "from sklearn.neighbors import KNeighborsClassifier\n",
    "\n",
    "# yay wine! split into training and test set \n",
    "wine = sklearn.datasets.load_wine()\n",
    "X, y = wine.data, wine.target\n",
    "X_train, X_test, y_train, y_test = train_test_split(X, y)\n",
    "\n",
    "# Logistic Regression\n",
    "lr = LogisticRegression()\n",
    "lr.fit(X_train, y_train)\n",
    "print(\"logistic regression training score\", lr.score(X_train, y_train))\n",
    "print(\"logistic regression test score\", lr.score(X_test, y_test))\n",
    "print(\"-----------------------------------------------------\")\n",
    "\n",
    "# SVC \n",
    "svc = SVC() \n",
    "svc.fit(X_train, y_train)\n",
    "print(\"svc training score\", svc.score(X_train, y_train))\n",
    "print(\"svc test score\", svc.score(X_test, y_test))\n",
    "print(\"-----------------------------------------------------\")\n",
    "\n",
    "# Linear SVC \n",
    "linear_svc = LinearSVC() \n",
    "linear_svc.fit(X_train, y_train)\n",
    "print(\"linear_svc training score\", linear_svc.score(X_train, y_train))\n",
    "print(\"linear_svc test score\", linear_svc.score(X_test, y_test))\n",
    "print(\"-----------------------------------------------------\")\n",
    "\n",
    "# K-Neighbor\n",
    "k_neighbor = KNeighborsClassifier()\n",
    "k_neighbor.fit(X_train, y_train)\n",
    "print(\"k_neighbor training score\", k_neighbor.score(X_train, y_train))\n",
    "print(\"k_neighbor test score\", k_neighbor.score(X_test, y_test))\n",
    "print(\"-----------------------------------------------------\")\n",
    "\n"
   ]
  }
 ],
 "metadata": {
  "kernelspec": {
   "display_name": "base",
   "language": "python",
   "name": "python3"
  },
  "language_info": {
   "codemirror_mode": {
    "name": "ipython",
    "version": 3
   },
   "file_extension": ".py",
   "mimetype": "text/x-python",
   "name": "python",
   "nbconvert_exporter": "python",
   "pygments_lexer": "ipython3",
   "version": "3.12.7"
  }
 },
 "nbformat": 4,
 "nbformat_minor": 2
}
