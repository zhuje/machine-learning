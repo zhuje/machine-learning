{
 "cells": [
  {
   "cell_type": "code",
   "execution_count": 12,
   "metadata": {},
   "outputs": [
    {
     "name": "stdout",
     "output_type": "stream",
     "text": [
      "MAE of descision tree model: 29652.931506849316\n",
      "MAE of descision tree model max 100 leaf : 27282.50803885739\n",
      "MAE of random forest model : 21857.15912981083\n"
     ]
    }
   ],
   "source": [
    "import pandas as pd \n",
    "from sklearn.metrics import mean_absolute_error \n",
    "from sklearn.model_selection import train_test_split\n",
    "from sklearn.ensemble import RandomForestRegressor\n",
    "from sklearn.tree import DecisionTreeRegressor\n",
    "\n",
    "# import dataset \n",
    "home_file_path = \"train.csv\"\n",
    "home_data = pd.read_csv(home_file_path)\n",
    "\n",
    "# Create X (attributes we want to examine)\n",
    "features = ['LotArea', 'YearBuilt', '1stFlrSF', '2ndFlrSF', 'FullBath', 'BedroomAbvGr', 'TotRmsAbvGrd']\n",
    "X = home_data[features]\n",
    "\n",
    "# define y (value we want to predict)\n",
    "y = home_data.SalePrice\n",
    "\n",
    "# Split data into training and validation set \n",
    "train_X, val_X, train_y, val_y = train_test_split(X, y, random_state=1)\n",
    "\n",
    "################################\n",
    "\n",
    "\n",
    "def runModel(model, message): \n",
    "    model.fit(train_X, train_y)\n",
    "    predictions = model.predict(val_X)\n",
    "    mae = mean_absolute_error(predictions, val_y)\n",
    "    print(message, mae)\n",
    "\n",
    "################################\n",
    "\n",
    "# Instantiate Descision Tree\n",
    "dt_model = DecisionTreeRegressor(random_state=1)\n",
    "runModel(dt_model, \"MAE of descision tree model:\")\n",
    "\n",
    "# Define optimum leaf nodes \n",
    "dt_model_100_leaf_nodes = DecisionTreeRegressor(max_leaf_nodes=100, random_state=1)\n",
    "runModel(dt_model_100_leaf_nodes, \"MAE of descision tree model max 100 leaf :\")\n",
    "\n",
    "# Instantiate Random Forest \n",
    "rf_model = RandomForestRegressor(random_state=1)\n",
    "runModel(rf_model, \"MAE of random forest model :\")\n",
    "\n"
   ]
  },
  {
   "cell_type": "code",
   "execution_count": null,
   "metadata": {},
   "outputs": [],
   "source": []
  }
 ],
 "metadata": {
  "kernelspec": {
   "display_name": "base",
   "language": "python",
   "name": "python3"
  },
  "language_info": {
   "codemirror_mode": {
    "name": "ipython",
    "version": 3
   },
   "file_extension": ".py",
   "mimetype": "text/x-python",
   "name": "python",
   "nbconvert_exporter": "python",
   "pygments_lexer": "ipython3",
   "version": "3.12.7"
  }
 },
 "nbformat": 4,
 "nbformat_minor": 2
}
